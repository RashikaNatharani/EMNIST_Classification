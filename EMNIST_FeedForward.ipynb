{
  "nbformat": 4,
  "nbformat_minor": 0,
  "metadata": {
    "colab": {
      "name": "EMNIST-FeedForward.ipynb",
      "provenance": [],
      "collapsed_sections": [],
      "authorship_tag": "ABX9TyPxM4B1sqz6vQnHdtgsb7bD",
      "include_colab_link": true
    },
    "kernelspec": {
      "name": "python3",
      "display_name": "Python 3"
    }
  },
  "cells": [
    {
      "cell_type": "markdown",
      "metadata": {
        "id": "view-in-github",
        "colab_type": "text"
      },
      "source": [
        "<a href=\"https://colab.research.google.com/github/RashikaNatharani/EMNIST_Classification/blob/master/EMNIST_FeedForward.ipynb\" target=\"_parent\"><img src=\"https://colab.research.google.com/assets/colab-badge.svg\" alt=\"Open In Colab\"/></a>"
      ]
    },
    {
      "cell_type": "code",
      "metadata": {
        "id": "D0yyIvWLMRbI",
        "colab_type": "code",
        "colab": {}
      },
      "source": [
        "from scipy import io as sio\n",
        "import keras\n",
        "from keras.models import Sequential\n",
        "from keras.layers import Dense, Dropout\n",
        "from keras.optimizers import RMSprop\n",
        "\n",
        "batch_size = 128\n",
        "num_classes = 26\n",
        "epochs = 20\n",
        "\n"
      ],
      "execution_count": 0,
      "outputs": []
    },
    {
      "cell_type": "code",
      "metadata": {
        "id": "9ly3m7kCahSq",
        "colab_type": "code",
        "outputId": "a2fb08b3-1eca-4417-fdf0-3396d4eb05e6",
        "colab": {
          "base_uri": "https://localhost:8080/",
          "height": 391
        }
      },
      "source": [
        "mat = sio.loadmat('emnist-letters.mat')\n",
        "data = mat['dataset']\n",
        "x_train = data['train'][0,0]['images'][0,0]\n",
        "y_train = data['train'][0,0]['labels'][0,0]\n",
        "x_test = data['test'][0,0]['images'][0,0]\n",
        "y_test = data['test'][0,0]['labels'][0,0]\n",
        "\n",
        "x_train = x_train.astype('float32')\n",
        "x_test = x_test.astype('float32')\n",
        "x_train /= 255\n",
        "x_test /= 255\n",
        "\n",
        "\n",
        "print(y_train.shape , 'y train before categorization')\n",
        "print(y_test.shape, 'y test before categorization')\n",
        "# convert class vectors to binary class matrices\n",
        "y_train = keras.utils.to_categorical(y_train-1, num_classes)\n",
        "y_test = keras.utils.to_categorical(y_test-1, num_classes)\n",
        "print('\\n')\n",
        "print(y_train.shape , 'y train after categorization')\n",
        "print(y_test.shape, 'y test after categorization')\n",
        "print('\\n')\n",
        "print('\\n')\n",
        "\n",
        "print(x_train.shape, 'X train before split')\n",
        "print(y_train.shape, 'Y train before split')\n",
        "\n",
        "val_start = x_train.shape[0] - x_test.shape[0]\n",
        "x_val = x_train[val_start:x_train.shape[0],:]\n",
        "y_val = y_train[val_start:x_train.shape[0]]\n",
        "x_train = x_train[0:val_start,:]\n",
        "y_train = y_train[0:val_start]\n",
        "print(x_train.shape, 'X train ')\n",
        "print(y_train.shape, 'Y train')\n",
        "\n",
        "print('\\n')\n",
        "print(x_val.shape, 'X Val')\n",
        "print(y_val.shape, 'Y val')\n",
        "\n",
        "print('\\n')\n",
        "print(x_test.shape, 'X Test')\n",
        "print(y_test.shape, 'Y Test')\n",
        "\n"
      ],
      "execution_count": 0,
      "outputs": [
        {
          "output_type": "stream",
          "text": [
            "(124800, 1) y train before categorization\n",
            "(20800, 1) y test before categorization\n",
            "\n",
            "\n",
            "(124800, 26) y train after categorization\n",
            "(20800, 26) y test after categorization\n",
            "\n",
            "\n",
            "\n",
            "\n",
            "(124800, 784) X train before split\n",
            "(124800, 26) Y train before split\n",
            "(104000, 784) X train \n",
            "(104000, 26) Y train\n",
            "\n",
            "\n",
            "(20800, 784) X Val\n",
            "(20800, 26) Y val\n",
            "\n",
            "\n",
            "(20800, 784) X Test\n",
            "(20800, 26) Y Test\n"
          ],
          "name": "stdout"
        }
      ]
    },
    {
      "cell_type": "code",
      "metadata": {
        "id": "CGBQ6KMXTVi5",
        "colab_type": "code",
        "outputId": "10bb2008-9143-4880-abfa-037adc4c0b7a",
        "colab": {
          "base_uri": "https://localhost:8080/",
          "height": 1000
        }
      },
      "source": [
        "\n",
        "\n",
        "model = Sequential()\n",
        "model.add(Dense(512, activation='relu', input_shape=(784,)))\n",
        "model.add(Dropout(0.2))\n",
        "model.add(Dense(512, activation='relu'))\n",
        "model.add(Dropout(0.2))\n",
        "model.add(Dense(num_classes, activation='softmax'))\n",
        "\n",
        "model.summary()\n",
        "\n",
        "model.compile(loss='categorical_crossentropy',\n",
        "              optimizer=RMSprop(),\n",
        "              metrics=['accuracy'])\n",
        "\n",
        "history = model.fit(x_train, y_train,\n",
        "                    batch_size=batch_size,\n",
        "                    epochs=epochs,\n",
        "                    verbose=1,\n",
        "                    validation_data=(x_val, y_val))"
      ],
      "execution_count": 0,
      "outputs": [
        {
          "output_type": "stream",
          "text": [
            "Model: \"sequential_3\"\n",
            "_________________________________________________________________\n",
            "Layer (type)                 Output Shape              Param #   \n",
            "=================================================================\n",
            "dense_7 (Dense)              (None, 512)               401920    \n",
            "_________________________________________________________________\n",
            "dropout_5 (Dropout)          (None, 512)               0         \n",
            "_________________________________________________________________\n",
            "dense_8 (Dense)              (None, 512)               262656    \n",
            "_________________________________________________________________\n",
            "dropout_6 (Dropout)          (None, 512)               0         \n",
            "_________________________________________________________________\n",
            "dense_9 (Dense)              (None, 26)                13338     \n",
            "=================================================================\n",
            "Total params: 677,914\n",
            "Trainable params: 677,914\n",
            "Non-trainable params: 0\n",
            "_________________________________________________________________\n",
            "Train on 104000 samples, validate on 20800 samples\n",
            "Epoch 1/20\n",
            "104000/104000 [==============================] - 16s 153us/step - loss: 0.7205 - accuracy: 0.7801 - val_loss: 0.4239 - val_accuracy: 0.8688\n",
            "Epoch 2/20\n",
            "104000/104000 [==============================] - 16s 151us/step - loss: 0.3948 - accuracy: 0.8746 - val_loss: 0.3517 - val_accuracy: 0.8898\n",
            "Epoch 3/20\n",
            "104000/104000 [==============================] - 16s 149us/step - loss: 0.3285 - accuracy: 0.8941 - val_loss: 0.3064 - val_accuracy: 0.9052\n",
            "Epoch 4/20\n",
            "104000/104000 [==============================] - 16s 150us/step - loss: 0.2963 - accuracy: 0.9036 - val_loss: 0.2981 - val_accuracy: 0.9109\n",
            "Epoch 5/20\n",
            "104000/104000 [==============================] - 16s 150us/step - loss: 0.2783 - accuracy: 0.9091 - val_loss: 0.3102 - val_accuracy: 0.9097\n",
            "Epoch 6/20\n",
            "104000/104000 [==============================] - 16s 151us/step - loss: 0.2652 - accuracy: 0.9135 - val_loss: 0.3040 - val_accuracy: 0.9111\n",
            "Epoch 7/20\n",
            "104000/104000 [==============================] - 16s 154us/step - loss: 0.2599 - accuracy: 0.9155 - val_loss: 0.2987 - val_accuracy: 0.9163\n",
            "Epoch 8/20\n",
            "104000/104000 [==============================] - 16s 149us/step - loss: 0.2569 - accuracy: 0.9184 - val_loss: 0.3070 - val_accuracy: 0.9152\n",
            "Epoch 9/20\n",
            "104000/104000 [==============================] - 16s 150us/step - loss: 0.2534 - accuracy: 0.9194 - val_loss: 0.3229 - val_accuracy: 0.9156\n",
            "Epoch 10/20\n",
            "104000/104000 [==============================] - 16s 152us/step - loss: 0.2515 - accuracy: 0.9195 - val_loss: 0.3310 - val_accuracy: 0.9154\n",
            "Epoch 11/20\n",
            "104000/104000 [==============================] - 16s 149us/step - loss: 0.2547 - accuracy: 0.9209 - val_loss: 0.3475 - val_accuracy: 0.9101\n",
            "Epoch 12/20\n",
            "104000/104000 [==============================] - 16s 152us/step - loss: 0.2553 - accuracy: 0.9207 - val_loss: 0.3456 - val_accuracy: 0.9134\n",
            "Epoch 13/20\n",
            "104000/104000 [==============================] - 16s 153us/step - loss: 0.2549 - accuracy: 0.9217 - val_loss: 0.3441 - val_accuracy: 0.9166\n",
            "Epoch 14/20\n",
            "104000/104000 [==============================] - 15s 149us/step - loss: 0.2543 - accuracy: 0.9210 - val_loss: 0.3471 - val_accuracy: 0.9151\n",
            "Epoch 15/20\n",
            "104000/104000 [==============================] - 16s 153us/step - loss: 0.2543 - accuracy: 0.9224 - val_loss: 0.3598 - val_accuracy: 0.9164\n",
            "Epoch 16/20\n",
            "104000/104000 [==============================] - 16s 151us/step - loss: 0.2501 - accuracy: 0.9234 - val_loss: 0.3751 - val_accuracy: 0.9123\n",
            "Epoch 17/20\n",
            "104000/104000 [==============================] - 15s 148us/step - loss: 0.2603 - accuracy: 0.9227 - val_loss: 0.4353 - val_accuracy: 0.9091\n",
            "Epoch 18/20\n",
            "104000/104000 [==============================] - 15s 148us/step - loss: 0.2614 - accuracy: 0.9227 - val_loss: 0.3984 - val_accuracy: 0.9128\n",
            "Epoch 19/20\n",
            "104000/104000 [==============================] - 15s 147us/step - loss: 0.2688 - accuracy: 0.9224 - val_loss: 0.4164 - val_accuracy: 0.9164\n",
            "Epoch 20/20\n",
            "104000/104000 [==============================] - 16s 151us/step - loss: 0.2654 - accuracy: 0.9225 - val_loss: 0.4128 - val_accuracy: 0.9125\n"
          ],
          "name": "stdout"
        }
      ]
    },
    {
      "cell_type": "code",
      "metadata": {
        "id": "lUUhO7xQLEvY",
        "colab_type": "code",
        "outputId": "3d637a16-fe13-4d29-8a54-3edf6874a28e",
        "colab": {
          "base_uri": "https://localhost:8080/",
          "height": 51
        }
      },
      "source": [
        "score = model.evaluate(X_test, y_test, verbose=0)\n",
        "print('Test loss:', score[0])\n",
        "print('Test accuracy:', score[1])"
      ],
      "execution_count": 0,
      "outputs": [
        {
          "output_type": "stream",
          "text": [
            "Test loss: 0.42401354533539864\n",
            "Test accuracy: 0.9118269085884094\n"
          ],
          "name": "stdout"
        }
      ]
    }
  ]
}